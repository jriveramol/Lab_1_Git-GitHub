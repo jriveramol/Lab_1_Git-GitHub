{
 "cells": [
  {
   "cell_type": "markdown",
   "id": "b2c2e4d1-84c3-4515-9bba-b7431fe4bdf9",
   "metadata": {},
   "source": [
    "# ¿Qué es Git?"
   ]
  },
  {
   "cell_type": "markdown",
   "id": "9448a27d-8f29-4b69-8352-49c0543fc02a",
   "metadata": {},
   "source": [
    "Una definición común de Git es que se trata de un *software de código abierto de control de versiones* (**vcs** por sus siglas en inglés). Esto significa que es un programa que permite gestionar o administrar los cambios o modificaciones que sufren los archivos a través del tiempo. "
   ]
  },
  {
   "cell_type": "markdown",
   "id": "2ce0c5be-2455-4f3f-9271-349c0790aedb",
   "metadata": {},
   "source": [
    "<img src=\"https://i.pinimg.com/originals/01/e5/00/01e500fca29c045d432b64f285f9c229.png\" alt=\"git_logo\" width=\"200\"/>"
   ]
  },
  {
   "cell_type": "markdown",
   "id": "3478aee4-a963-4cc6-9c4c-a0b8165347c0",
   "metadata": {},
   "source": [
    "### ¿Qué es una versión?"
   ]
  },
  {
   "cell_type": "markdown",
   "id": "adb1b81c-41c3-4075-a2bf-a824d395761c",
   "metadata": {},
   "source": [
    "Cuando un archivo sufre un cambio, ya sea porque se agregó o eliminó información, se crea una nueva ***versión*** de dicho archivo. Entendemos entonces como versión, *al estado de un archivo en cierto punto en el tiempo*."
   ]
  },
  {
   "cell_type": "markdown",
   "id": "a64870fe-f8d1-4a62-a209-fb782223c76e",
   "metadata": {},
   "source": [
    "### ¿Por qué usar Git?"
   ]
  },
  {
   "cell_type": "markdown",
   "id": "659b2777-7db8-487f-b9f4-191fe0fab3d5",
   "metadata": {},
   "source": [
    "Cuando decimos que Git es un vcs, nos referimos a que nos permite contar con un registro, trazabilidad o historial de los cambios que sufren nuestros archivos a medida que los vamos desarrollando.\n",
    "\n",
    "Lo anterior permite tener las siguientes ventajas:\n",
    "- Podemos visualizar qué archivos cambiaron.\n",
    "- Podemos visualizar qué cambios no se han guardado en la versión oficial.\n",
    "- Podemos visualizar de forma sencilla las diferencias entre una versión y otra de un mismo archivo.\n",
    "- Podemos **combinar** diferentes versiones de un archivo.\n",
    "- En cualquier momento podemos **restaurar** nuestro archivo a cualquiera de esas versiones registradas.\n",
    "\n",
    "Estas ventajas son aún más relevantes cuando el archivo puede ser modificado por varios usuarios (trabajo colaborativo), ya que se puede registrar cuál fue el cambio, quién lo hizo y en qué momento, lo cual contribuye con la documentación de un proceso."
   ]
  },
  {
   "cell_type": "markdown",
   "id": "897e34f2-19b5-4041-90c7-e85a80701ee1",
   "metadata": {},
   "source": [
    "### ¿Cómo almacena Git el historial de versiones?"
   ]
  },
  {
   "cell_type": "markdown",
   "id": "3c308c7d-07ef-4edb-9009-32070d5a8335",
   "metadata": {},
   "source": [
    "Git hace uso de **repositorios** para almacenar la información y el historial de las versiones de dicha información.\n",
    "Un repositorio es una carpeta que contiene como mínimo un archivo llamado ***.git***, en el cual Git registra el historial de cambios. Es de suma importancia no borrar ni modificar dicho archivo.\n",
    "Por lo general, un repositorio también incluye un archivo *README* que contiene información general sobre el repositorio."
   ]
  },
  {
   "cell_type": "markdown",
   "id": "7ae50e85-3320-4a22-a268-15efa7ca892f",
   "metadata": {},
   "source": [
    "### Principales comandos Git"
   ]
  },
  {
   "cell_type": "markdown",
   "id": "0b8d45bb-5c96-4a62-95de-a009105e98ff",
   "metadata": {},
   "source": [
    "|Comando|Descripción|\n",
    "|-|-|\n",
    "|git clone|Permite clonar un repositorio remoto|\n",
    "|git status|Muestra el estado de los archivos, si sufrieron modificación o no|\n",
    "|git add|Permite agregar los cambios al área de preparación|\n",
    "|git commit|Permite trasladar los cambios del área de preparación a una rama del repositorio|\n",
    "|git branch|Permite crear una rama|\n",
    "|git checkout|Permite cambiarse de rama|\n",
    "|git push|Permite actualizar el repositorio a cierta versión|\n",
    "|git pull|Permite descargar el repositorio remoto de forma local|"
   ]
  },
  {
   "cell_type": "markdown",
   "id": "b7b4cf46-f334-4267-bd91-29d3e4274c18",
   "metadata": {},
   "source": [
    "# ¿Qué es GitHub?"
   ]
  },
  {
   "cell_type": "markdown",
   "id": "0c6ec18d-38ab-4faf-b6fe-bd247e169b62",
   "metadata": {},
   "source": [
    "GitHub es una plataforma que permite almacenar y gestionar en la nube nuestros repositorios mediante Git.\n",
    "\n",
    "Algunas de las ventajas de GitHub son:\n",
    "- Cuenta con interfaz gráfica, lo cual facilita realizar varias acciones en el repositorio ya que se realizan mediante clics y no con líneas de código\n",
    "- Cuenta con varias herramientas para el trabajo colaborativo, como asignar tareas y visualizar los cambios de los demás usuarios en tiempo real."
   ]
  },
  {
   "cell_type": "markdown",
   "id": "f8c75ce3-5b35-45ee-a8c0-d21c61201b42",
   "metadata": {},
   "source": [
    "<img src=\"https://www.analyticsvidhya.com/wp-content/uploads/2015/07/github_logo.png\" alt=\"git_logo\" width=\"600\"/>"
   ]
  },
  {
   "cell_type": "markdown",
   "id": "305d6073-7306-47d4-bcb4-ad60fe7b5197",
   "metadata": {},
   "source": [
    "# Magic Cells"
   ]
  },
  {
   "cell_type": "markdown",
   "id": "e903553c-c8aa-4dfa-9996-832541714ed5",
   "metadata": {},
   "source": [
    "- Las magic cells son comandos que permiten modificar la ejecución de líneas de código o celdas de código en un Jupyter Notebook.\n",
    "- Se emplean colocando %% al inicio de la línea seguido del comando.\n",
    "- En [5] se muestra una tabla con los comandos más empleados y una descripción, pero en mi experiencia he empleado más los siguientes\n",
    "\n",
    "|Comando|Descripción|\n",
    "|-|-|\n",
    "|%%time|Permite medir el tiempo de ejecución de la celda|\n",
    "|%%latex|Permite escribir código de latex en la celda|\n",
    "|%%html|Permite escribir código de HTML en la celda|6 |6 |6 |"
   ]
  },
  {
   "cell_type": "markdown",
   "id": "9caee5bf-7518-4665-9c76-9450ac7529f1",
   "metadata": {},
   "source": [
    "## Celdas de Notebook como línea de comando"
   ]
  },
  {
   "cell_type": "markdown",
   "id": "a1cbfdfc-88ab-493a-9115-dfa3f7f860f1",
   "metadata": {},
   "source": [
    "- Para emplear las celdas de un Notebook de Jupyter como una línea de comando del CMD o la terminal, se emplea el caracter **!** seguido del comando.\n",
    "- A continuación se muestran algunos ejemplos y adicional, se emplean para subir este cuaderno a un repositorio"
   ]
  },
  {
   "cell_type": "code",
   "execution_count": 1,
   "id": "805735dc-b591-42f3-848f-0ffa1769d30d",
   "metadata": {},
   "outputs": [
    {
     "name": "stdout",
     "output_type": "stream",
     "text": [
      "Python 3.8.18\n"
     ]
    }
   ],
   "source": [
    "!python --version"
   ]
  },
  {
   "cell_type": "code",
   "execution_count": 2,
   "id": "d6e3594d-153b-4dfe-9888-fe4d2a5db773",
   "metadata": {},
   "outputs": [
    {
     "name": "stdout",
     "output_type": "stream",
     "text": [
      "# conda environments:\n",
      "#\n",
      "base                  *  C:\\Users\\Usuario\\anaconda3\n",
      "master                   C:\\Users\\Usuario\\anaconda3\\envs\\master\n",
      "\n"
     ]
    }
   ],
   "source": [
    "!conda info --envs"
   ]
  },
  {
   "cell_type": "code",
   "execution_count": 3,
   "id": "9c2dab66-8763-468e-ba54-5e91fc267c39",
   "metadata": {},
   "outputs": [
    {
     "name": "stdout",
     "output_type": "stream",
     "text": [
      " El volumen de la unidad C es JJLaRoche\n",
      " El número de serie del volumen es: A28B-8B44\n",
      "\n",
      " Directorio de C:\\Users\\Usuario\\Documents\\MAESTRIA\\DS_PYTHON\\Laboratorios\n",
      "\n",
      "14/02/2024  01:25    <DIR>          .\n",
      "14/02/2024  01:25    <DIR>          ..\n",
      "14/02/2024  01:36    <DIR>          .ipynb_checkpoints\n",
      "14/02/2024  01:13            11,679 24005123_RiveraJerry_Lab1_Git_GitHub.ipynb\n",
      "14/02/2024  01:28    <DIR>          Lab_1_Git_GitHub\n",
      "               1 archivos         11,679 bytes\n",
      "               4 dirs  261,819,846,656 bytes libres\n"
     ]
    }
   ],
   "source": [
    "!dir"
   ]
  },
  {
   "cell_type": "code",
   "execution_count": 9,
   "id": "67c86641-3be5-445c-9c47-9f386958d2b2",
   "metadata": {},
   "outputs": [
    {
     "name": "stderr",
     "output_type": "stream",
     "text": [
      "Cloning into 'Lab_1_Git_GitHub'...\n"
     ]
    }
   ],
   "source": [
    "#se clona el repositorio\n",
    "!git clone https://github.com/jriveramol/Lab_1_Git_GitHub.git"
   ]
  },
  {
   "cell_type": "code",
   "execution_count": 4,
   "id": "cdc74b25-a4f4-490e-8c5b-ba2394aa834c",
   "metadata": {},
   "outputs": [
    {
     "name": "stdout",
     "output_type": "stream",
     "text": [
      "        1 archivo(s) copiado(s).\n"
     ]
    }
   ],
   "source": [
    "# se mueve el archivo al repositorio\n",
    "!move C:\\Users\\Usuario\\Documents\\MAESTRIA\\DS_PYTHON\\Laboratorios\\24005123_RiveraJerry_Lab1_Git_GitHub.ipynb C:\\Users\\Usuario\\Documents\\MAESTRIA\\DS_PYTHON\\Laboratorios\\Lab_1_Git_GitHub"
   ]
  },
  {
   "cell_type": "code",
   "execution_count": 1,
   "id": "c14c0dd1-77d9-418d-87d6-2feb94522d3d",
   "metadata": {},
   "outputs": [
    {
     "name": "stdout",
     "output_type": "stream",
     "text": [
      "On branch main\n",
      "Your branch is up to date with 'origin/main'.\n",
      "\n",
      "Untracked files:\n",
      "  (use \"git add <file>...\" to include in what will be committed)\n",
      "\t.ipynb_checkpoints/\n",
      "\t24005123_RiveraJerry_Lab1_Git_GitHub.ipynb\n",
      "\n",
      "nothing added to commit but untracked files present (use \"git add\" to track)\n"
     ]
    }
   ],
   "source": [
    "# una vez dentro del archivo que está dentro del repo\n",
    "# se muestran los cambios en el área de preparación\n",
    "!git status"
   ]
  },
  {
   "cell_type": "code",
   "execution_count": 2,
   "id": "f55eed9d-4361-4063-a6cd-02e39f13dd53",
   "metadata": {},
   "outputs": [
    {
     "name": "stderr",
     "output_type": "stream",
     "text": [
      "warning: in the working copy of '.ipynb_checkpoints/24005123_RiveraJerry_Lab1_Git_GitHub-checkpoint.ipynb', LF will be replaced by CRLF the next time Git touches it\n",
      "warning: in the working copy of '24005123_RiveraJerry_Lab1_Git_GitHub.ipynb', LF will be replaced by CRLF the next time Git touches it\n"
     ]
    }
   ],
   "source": [
    "# se añaden los cambios al repositorio remoto\n",
    "!git add ."
   ]
  },
  {
   "cell_type": "code",
   "execution_count": 3,
   "id": "564c7b77-379f-46e1-872f-c2b9f154991c",
   "metadata": {},
   "outputs": [
    {
     "name": "stdout",
     "output_type": "stream",
     "text": [
      "[main 3f9c03e] Subida del archivo ipynb al repo\n",
      " 2 files changed, 712 insertions(+)\n",
      " create mode 100644 .ipynb_checkpoints/24005123_RiveraJerry_Lab1_Git_GitHub-checkpoint.ipynb\n",
      " create mode 100644 24005123_RiveraJerry_Lab1_Git_GitHub.ipynb\n"
     ]
    }
   ],
   "source": [
    "# se actualizan los cambios en el repo\n",
    "!git commit -m \"Subida del archivo ipynb al repo\""
   ]
  },
  {
   "cell_type": "code",
   "execution_count": null,
   "id": "9753388c-cb98-4c6b-b645-5001603f78af",
   "metadata": {},
   "outputs": [],
   "source": []
  },
  {
   "cell_type": "markdown",
   "id": "46730c71-9ff3-4eec-9606-43e512dbb3ca",
   "metadata": {},
   "source": [
    "# Bibliografía"
   ]
  },
  {
   "cell_type": "markdown",
   "id": "4e460a73-7f97-4629-a447-eb9b77290ac0",
   "metadata": {},
   "source": [
    "[1] *1.3 Inicio - Sobre el Control de Versiones - Fundamentos de Git. (s. f.).* Git. Recuperado 13 de febrero de 2024, de https://git-scm.com/book/es/v2/Inicio---Sobre-el-Control-de-Versiones-Fundamentos-de-Git\n",
    "\n",
    "[2] *Montiel, O.* (2022, 22 febrero). La guía para principiantes de Git y Github. Recuperado 13 de febrero de 2024, de freeCodeCamp.org. https://www.freecodecamp.org/espanol/news/guia-para-principiantes-de-git-y-github/\n",
    "\n",
    "[3] *ReviewNB.* (2020, 20 febrero). How to use Git / GitHub with Jupyter Notebook. ReviewNB Blog. Recuperado 13 de febrero de https://blog.reviewnb.com/github-jupyter-notebook/\n",
    "\n",
    "[4] *Introduction to Git - Comparing files.* (s. f.). [Vídeo]. DataCamp. Recuperado 13 de febrero de 2024, de https://campus.datacamp.com/courses/introduction-to-git/introduction-to-git?ex=9\n",
    "\n",
    "[5] *GeeksforGeeks*. (2023, 26 octubre). Jupyter Notebook cell Magic Functions. Recuperado 13 de febrero de 2024, dehttps://www.geeksforgeeks.org/jupyter-notebook-cell-magic-functions/\n",
    "\n",
    "[6] *Built-in magic commands — IPython 8.21.0 documentation*. (s. f.). Recuperado 13 de febrero de 2024, de https://ipython.readthedocs.io/en/stable/interactive/magics.html#cell-magics\n",
    "\n",
    "[7] *What is the difference between ! and % in Jupyter notebooks?* (s. f.). Stack Overflow. Recuperado 13 de febrero de 2024, de  https://stackoverflow.com/questions/45784499/what-is-the-difference-between-and-in-jupyter-notebooks"
   ]
  },
  {
   "cell_type": "code",
   "execution_count": null,
   "id": "c4d46d4b-9c66-4773-85a8-071e7310fdb3",
   "metadata": {},
   "outputs": [],
   "source": []
  }
 ],
 "metadata": {
  "kernelspec": {
   "display_name": "Python 3 (ipykernel)",
   "language": "python",
   "name": "python3"
  },
  "language_info": {
   "codemirror_mode": {
    "name": "ipython",
    "version": 3
   },
   "file_extension": ".py",
   "mimetype": "text/x-python",
   "name": "python",
   "nbconvert_exporter": "python",
   "pygments_lexer": "ipython3",
   "version": "3.8.18"
  }
 },
 "nbformat": 4,
 "nbformat_minor": 5
}
